{
 "cells": [
  {
   "cell_type": "code",
   "execution_count": 1,
   "id": "e4f0ebf9-b445-4bfd-846e-587a19be09d6",
   "metadata": {},
   "outputs": [],
   "source": [
    "import pandas as pd\n",
    "import numpy as np\n",
    "import seaborn as sns\n",
    "import matplotlib.pyplot as plt\n",
    "\n",
    "cab_data = pd.read_csv(\"true_cab.csv\")\n",
    "city = pd.read_csv(\"https://raw.githubusercontent.com/DataGlacier/DataSets/main/City.csv\")\n",
    "customer_id = pd.read_csv(\"https://raw.githubusercontent.com/DataGlacier/DataSets/main/Customer_ID.csv\")\n",
    "transaction_id = pd.read_csv(\"https://raw.githubusercontent.com/DataGlacier/DataSets/main/Transaction_ID.csv\")"
   ]
  },
  {
   "cell_type": "code",
   "execution_count": 2,
   "id": "e8c08df0-57b7-4c5b-86e9-a1bcba138281",
   "metadata": {},
   "outputs": [],
   "source": [
    "cab_data = cab_data.drop(columns = ['Unnamed: 0', 'Unnamed: 8', 'Unnamed: 9'])"
   ]
  },
  {
   "cell_type": "markdown",
   "id": "7d89d128-050e-4f71-a007-93c4d4e835df",
   "metadata": {},
   "source": [
    "Time to clean the data..."
   ]
  },
  {
   "cell_type": "code",
   "execution_count": 3,
   "id": "162bdb67-5cab-47a1-acc5-14dcb8344e16",
   "metadata": {},
   "outputs": [],
   "source": [
    "cab_data = cab_data.dropna()"
   ]
  },
  {
   "cell_type": "code",
   "execution_count": 4,
   "id": "920eba41-c677-446e-a140-faa5609d8cfb",
   "metadata": {},
   "outputs": [],
   "source": [
    "first = transaction_id.merge(customer_id, on = 'Customer ID', how = 'left')\n",
    "second = first.merge(cab_data, on = 'Transaction ID', how = 'right')\n",
    "final_data = second.merge(city, on = 'City', how = 'left')"
   ]
  },
  {
   "cell_type": "code",
   "execution_count": 5,
   "id": "b7abf394-d6bd-49a3-95de-fb980abf9246",
   "metadata": {},
   "outputs": [],
   "source": [
    "final_data['profit'] = final_data['Price Charged'] - final_data['Cost of Trip']"
   ]
  },
  {
   "cell_type": "code",
   "execution_count": 6,
   "id": "0db8d072-4acb-4161-b1db-873fc60fdab3",
   "metadata": {},
   "outputs": [
    {
     "data": {
      "text/html": [
       "<div>\n",
       "<style scoped>\n",
       "    .dataframe tbody tr th:only-of-type {\n",
       "        vertical-align: middle;\n",
       "    }\n",
       "\n",
       "    .dataframe tbody tr th {\n",
       "        vertical-align: top;\n",
       "    }\n",
       "\n",
       "    .dataframe thead th {\n",
       "        text-align: right;\n",
       "    }\n",
       "</style>\n",
       "<table border=\"1\" class=\"dataframe\">\n",
       "  <thead>\n",
       "    <tr style=\"text-align: right;\">\n",
       "      <th></th>\n",
       "      <th>Transaction ID</th>\n",
       "      <th>Customer ID</th>\n",
       "      <th>Payment_Mode</th>\n",
       "      <th>Gender</th>\n",
       "      <th>Age</th>\n",
       "      <th>Income (USD/Month)</th>\n",
       "      <th>Date of Travel</th>\n",
       "      <th>Company</th>\n",
       "      <th>City</th>\n",
       "      <th>KM Travelled</th>\n",
       "      <th>Price Charged</th>\n",
       "      <th>Cost of Trip</th>\n",
       "      <th>Population</th>\n",
       "      <th>Users</th>\n",
       "      <th>profit</th>\n",
       "    </tr>\n",
       "  </thead>\n",
       "  <tbody>\n",
       "    <tr>\n",
       "      <th>0</th>\n",
       "      <td>10000011</td>\n",
       "      <td>29290</td>\n",
       "      <td>Card</td>\n",
       "      <td>Male</td>\n",
       "      <td>28</td>\n",
       "      <td>10813</td>\n",
       "      <td>1/8/16</td>\n",
       "      <td>Pink Cab</td>\n",
       "      <td>ATLANTA GA</td>\n",
       "      <td>30.45</td>\n",
       "      <td>370.95</td>\n",
       "      <td>313.6350</td>\n",
       "      <td>814,885</td>\n",
       "      <td>24,701</td>\n",
       "      <td>57.3150</td>\n",
       "    </tr>\n",
       "    <tr>\n",
       "      <th>1</th>\n",
       "      <td>10000012</td>\n",
       "      <td>27703</td>\n",
       "      <td>Card</td>\n",
       "      <td>Male</td>\n",
       "      <td>27</td>\n",
       "      <td>9237</td>\n",
       "      <td>1/6/16</td>\n",
       "      <td>Pink Cab</td>\n",
       "      <td>ATLANTA GA</td>\n",
       "      <td>28.62</td>\n",
       "      <td>358.52</td>\n",
       "      <td>334.8540</td>\n",
       "      <td>814,885</td>\n",
       "      <td>24,701</td>\n",
       "      <td>23.6660</td>\n",
       "    </tr>\n",
       "    <tr>\n",
       "      <th>2</th>\n",
       "      <td>10000013</td>\n",
       "      <td>28712</td>\n",
       "      <td>Cash</td>\n",
       "      <td>Male</td>\n",
       "      <td>53</td>\n",
       "      <td>11242</td>\n",
       "      <td>1/2/16</td>\n",
       "      <td>Pink Cab</td>\n",
       "      <td>ATLANTA GA</td>\n",
       "      <td>9.04</td>\n",
       "      <td>125.20</td>\n",
       "      <td>97.6320</td>\n",
       "      <td>814,885</td>\n",
       "      <td>24,701</td>\n",
       "      <td>27.5680</td>\n",
       "    </tr>\n",
       "    <tr>\n",
       "      <th>3</th>\n",
       "      <td>10000014</td>\n",
       "      <td>28020</td>\n",
       "      <td>Cash</td>\n",
       "      <td>Male</td>\n",
       "      <td>23</td>\n",
       "      <td>23327</td>\n",
       "      <td>1/7/16</td>\n",
       "      <td>Pink Cab</td>\n",
       "      <td>ATLANTA GA</td>\n",
       "      <td>33.17</td>\n",
       "      <td>377.40</td>\n",
       "      <td>351.6020</td>\n",
       "      <td>814,885</td>\n",
       "      <td>24,701</td>\n",
       "      <td>25.7980</td>\n",
       "    </tr>\n",
       "    <tr>\n",
       "      <th>4</th>\n",
       "      <td>10000015</td>\n",
       "      <td>27182</td>\n",
       "      <td>Card</td>\n",
       "      <td>Male</td>\n",
       "      <td>33</td>\n",
       "      <td>8536</td>\n",
       "      <td>1/3/16</td>\n",
       "      <td>Pink Cab</td>\n",
       "      <td>ATLANTA GA</td>\n",
       "      <td>8.73</td>\n",
       "      <td>114.62</td>\n",
       "      <td>97.7760</td>\n",
       "      <td>814,885</td>\n",
       "      <td>24,701</td>\n",
       "      <td>16.8440</td>\n",
       "    </tr>\n",
       "    <tr>\n",
       "      <th>...</th>\n",
       "      <td>...</td>\n",
       "      <td>...</td>\n",
       "      <td>...</td>\n",
       "      <td>...</td>\n",
       "      <td>...</td>\n",
       "      <td>...</td>\n",
       "      <td>...</td>\n",
       "      <td>...</td>\n",
       "      <td>...</td>\n",
       "      <td>...</td>\n",
       "      <td>...</td>\n",
       "      <td>...</td>\n",
       "      <td>...</td>\n",
       "      <td>...</td>\n",
       "      <td>...</td>\n",
       "    </tr>\n",
       "    <tr>\n",
       "      <th>359387</th>\n",
       "      <td>10440101</td>\n",
       "      <td>52392</td>\n",
       "      <td>Cash</td>\n",
       "      <td>Male</td>\n",
       "      <td>24</td>\n",
       "      <td>15651</td>\n",
       "      <td>1/8/18</td>\n",
       "      <td>Yellow Cab</td>\n",
       "      <td>WASHINGTON DC</td>\n",
       "      <td>4.80</td>\n",
       "      <td>69.24</td>\n",
       "      <td>63.3600</td>\n",
       "      <td>418,859</td>\n",
       "      <td>127,001</td>\n",
       "      <td>5.8800</td>\n",
       "    </tr>\n",
       "    <tr>\n",
       "      <th>359388</th>\n",
       "      <td>10440104</td>\n",
       "      <td>53286</td>\n",
       "      <td>Cash</td>\n",
       "      <td>Male</td>\n",
       "      <td>32</td>\n",
       "      <td>6528</td>\n",
       "      <td>1/4/18</td>\n",
       "      <td>Yellow Cab</td>\n",
       "      <td>WASHINGTON DC</td>\n",
       "      <td>8.40</td>\n",
       "      <td>113.75</td>\n",
       "      <td>106.8480</td>\n",
       "      <td>418,859</td>\n",
       "      <td>127,001</td>\n",
       "      <td>6.9020</td>\n",
       "    </tr>\n",
       "    <tr>\n",
       "      <th>359389</th>\n",
       "      <td>10440105</td>\n",
       "      <td>52265</td>\n",
       "      <td>Cash</td>\n",
       "      <td>Male</td>\n",
       "      <td>56</td>\n",
       "      <td>7966</td>\n",
       "      <td>1/5/18</td>\n",
       "      <td>Yellow Cab</td>\n",
       "      <td>WASHINGTON DC</td>\n",
       "      <td>27.75</td>\n",
       "      <td>437.07</td>\n",
       "      <td>349.6500</td>\n",
       "      <td>418,859</td>\n",
       "      <td>127,001</td>\n",
       "      <td>87.4200</td>\n",
       "    </tr>\n",
       "    <tr>\n",
       "      <th>359390</th>\n",
       "      <td>10440106</td>\n",
       "      <td>52175</td>\n",
       "      <td>Card</td>\n",
       "      <td>Male</td>\n",
       "      <td>32</td>\n",
       "      <td>6423</td>\n",
       "      <td>1/5/18</td>\n",
       "      <td>Yellow Cab</td>\n",
       "      <td>WASHINGTON DC</td>\n",
       "      <td>8.80</td>\n",
       "      <td>146.19</td>\n",
       "      <td>114.0480</td>\n",
       "      <td>418,859</td>\n",
       "      <td>127,001</td>\n",
       "      <td>32.1420</td>\n",
       "    </tr>\n",
       "    <tr>\n",
       "      <th>359391</th>\n",
       "      <td>10440107</td>\n",
       "      <td>52917</td>\n",
       "      <td>Card</td>\n",
       "      <td>Male</td>\n",
       "      <td>20</td>\n",
       "      <td>11284</td>\n",
       "      <td>1/2/18</td>\n",
       "      <td>Yellow Cab</td>\n",
       "      <td>WASHINGTON DC</td>\n",
       "      <td>12.76</td>\n",
       "      <td>191.58</td>\n",
       "      <td>177.6192</td>\n",
       "      <td>418,859</td>\n",
       "      <td>127,001</td>\n",
       "      <td>13.9608</td>\n",
       "    </tr>\n",
       "  </tbody>\n",
       "</table>\n",
       "<p>359392 rows × 15 columns</p>\n",
       "</div>"
      ],
      "text/plain": [
       "        Transaction ID  Customer ID Payment_Mode Gender  Age  \\\n",
       "0             10000011        29290         Card   Male   28   \n",
       "1             10000012        27703         Card   Male   27   \n",
       "2             10000013        28712         Cash   Male   53   \n",
       "3             10000014        28020         Cash   Male   23   \n",
       "4             10000015        27182         Card   Male   33   \n",
       "...                ...          ...          ...    ...  ...   \n",
       "359387        10440101        52392         Cash   Male   24   \n",
       "359388        10440104        53286         Cash   Male   32   \n",
       "359389        10440105        52265         Cash   Male   56   \n",
       "359390        10440106        52175         Card   Male   32   \n",
       "359391        10440107        52917         Card   Male   20   \n",
       "\n",
       "        Income (USD/Month) Date of Travel     Company           City  \\\n",
       "0                    10813         1/8/16    Pink Cab     ATLANTA GA   \n",
       "1                     9237         1/6/16    Pink Cab     ATLANTA GA   \n",
       "2                    11242         1/2/16    Pink Cab     ATLANTA GA   \n",
       "3                    23327         1/7/16    Pink Cab     ATLANTA GA   \n",
       "4                     8536         1/3/16    Pink Cab     ATLANTA GA   \n",
       "...                    ...            ...         ...            ...   \n",
       "359387               15651         1/8/18  Yellow Cab  WASHINGTON DC   \n",
       "359388                6528         1/4/18  Yellow Cab  WASHINGTON DC   \n",
       "359389                7966         1/5/18  Yellow Cab  WASHINGTON DC   \n",
       "359390                6423         1/5/18  Yellow Cab  WASHINGTON DC   \n",
       "359391               11284         1/2/18  Yellow Cab  WASHINGTON DC   \n",
       "\n",
       "        KM Travelled  Price Charged  Cost of Trip Population      Users  \\\n",
       "0              30.45         370.95      313.6350   814,885     24,701    \n",
       "1              28.62         358.52      334.8540   814,885     24,701    \n",
       "2               9.04         125.20       97.6320   814,885     24,701    \n",
       "3              33.17         377.40      351.6020   814,885     24,701    \n",
       "4               8.73         114.62       97.7760   814,885     24,701    \n",
       "...              ...            ...           ...        ...        ...   \n",
       "359387          4.80          69.24       63.3600   418,859    127,001    \n",
       "359388          8.40         113.75      106.8480   418,859    127,001    \n",
       "359389         27.75         437.07      349.6500   418,859    127,001    \n",
       "359390          8.80         146.19      114.0480   418,859    127,001    \n",
       "359391         12.76         191.58      177.6192   418,859    127,001    \n",
       "\n",
       "         profit  \n",
       "0       57.3150  \n",
       "1       23.6660  \n",
       "2       27.5680  \n",
       "3       25.7980  \n",
       "4       16.8440  \n",
       "...         ...  \n",
       "359387   5.8800  \n",
       "359388   6.9020  \n",
       "359389  87.4200  \n",
       "359390  32.1420  \n",
       "359391  13.9608  \n",
       "\n",
       "[359392 rows x 15 columns]"
      ]
     },
     "execution_count": 6,
     "metadata": {},
     "output_type": "execute_result"
    }
   ],
   "source": [
    "final_data"
   ]
  },
  {
   "cell_type": "markdown",
   "id": "dd6554e1-df2e-4090-a457-8aa778229183",
   "metadata": {},
   "source": [
    "Hypothesis 1: Which company makes more in profit? How about per ride?"
   ]
  },
  {
   "cell_type": "code",
   "execution_count": 6,
   "id": "fd12e646-8751-47ec-8511-27758b910c70",
   "metadata": {},
   "outputs": [],
   "source": [
    "grouped = final_data.groupby('Company').sum()"
   ]
  },
  {
   "cell_type": "code",
   "execution_count": 7,
   "id": "b9e636f3-2ca4-44f0-b6df-8ce4c6c109fe",
   "metadata": {},
   "outputs": [],
   "source": [
    "profit_table = pd.DataFrame(index = [\"Pink Cab\", \"Yellow Cab\"])\n",
    "profit_table['profit'] = [grouped['profit'][0], grouped['profit'][1]]"
   ]
  },
  {
   "cell_type": "code",
   "execution_count": 8,
   "id": "d6b4dbff-3405-4819-82ba-c2042e9fb442",
   "metadata": {},
   "outputs": [],
   "source": [
    "grouped_count = final_data.groupby('Company').mean()"
   ]
  },
  {
   "cell_type": "code",
   "execution_count": 9,
   "id": "130d9291-869d-4ab7-9195-46c46d5e2947",
   "metadata": {},
   "outputs": [],
   "source": [
    "profit_table['profit per ride'] = grouped_count['profit']"
   ]
  },
  {
   "cell_type": "code",
   "execution_count": 38,
   "id": "0f66c989-066f-47a7-8994-4f1bf6c8e075",
   "metadata": {},
   "outputs": [
    {
     "data": {
      "image/png": "[encoded data removed]",
      "text/plain": [
       "<Figure size 432x288 with 1 Axes>"
      ]
     },
     "metadata": {
      "needs_background": "light"
     },
     "output_type": "display_data"
    }
   ],
   "source": [
    "sns.barplot(data = profit_table, x = profit_table.index, y = 'profit');\n",
    "\n",
    "plt.title(\"Total Profit\");\n",
    "plt.xlabel('Company');\n",
    "plt.ylabel(\"Profit ($)\");\n"
   ]
  },
  {
   "cell_type": "code",
   "execution_count": 61,
   "id": "bed52ddf-b8a8-45f0-b5ab-6643505cb963",
   "metadata": {},
   "outputs": [
    {
     "data": {
      "image/png": "[encoded data removed]",
      "text/plain": [
       "<Figure size 432x288 with 1 Axes>"
      ]
     },
     "metadata": {
      "needs_background": "light"
     },
     "output_type": "display_data"
    }
   ],
   "source": [
    "sns.barplot(data = profit_table, x = profit_table.index, y = 'profit per ride');\n",
    "\n",
    "plt.title(\"Average Profit Per Ride\");\n",
    "plt.xlabel('Company');\n",
    "plt.ylabel(\"Profit ($)\");\n"
   ]
  },
  {
   "cell_type": "markdown",
   "id": "d3b07530-239d-4c41-86e9-1b2195b25b26",
   "metadata": {},
   "source": [
    "Hypothesis 2: Are there certain cities where a company is more profitable?"
   ]
  },
  {
   "cell_type": "code",
   "execution_count": 46,
   "id": "91e07a78-8299-4778-b246-cbcff9462b97",
   "metadata": {},
   "outputs": [],
   "source": [
    "grouped_city = final_data.groupby(['City', 'Company']).sum()\n",
    "grouped_city['per ride'] = final_data.groupby(['City', 'Company']).mean()['profit']\n",
    "profit_table_city = grouped_city[['profit', 'per ride']]"
   ]
  },
  {
   "cell_type": "code",
   "execution_count": 59,
   "id": "d15c6b19-850b-451b-80a5-411ece8b5590",
   "metadata": {},
   "outputs": [
    {
     "data": {
      "image/png": "[encoded data removed]",
      "text/plain": [
       "<Figure size 432x288 with 1 Axes>"
      ]
     },
     "metadata": {
      "needs_background": "light"
     },
     "output_type": "display_data"
    }
   ],
   "source": [
    "sns.barplot(data = profit_table_city.reset_index(), x = 'City', y = 'profit', hue = 'Company');\n",
    "\n",
    "plt.xticks(rotation = 90);\n",
    "plt.ylim(0, 10000000);\n",
    "plt.title(\"Total Profit By City\");"
   ]
  },
  {
   "cell_type": "code",
   "execution_count": 60,
   "id": "c4484a26-1e69-40ad-831a-75e2a1022e0b",
   "metadata": {},
   "outputs": [
    {
     "data": {
      "image/png": "[encoded data removed]",
      "text/plain": [
       "<Figure size 432x288 with 1 Axes>"
      ]
     },
     "metadata": {
      "needs_background": "light"
     },
     "output_type": "display_data"
    }
   ],
   "source": [
    "sns.barplot(data = profit_table_city.reset_index(), x = 'City', y = 'per ride', hue = 'Company');\n",
    "\n",
    "plt.xticks(rotation = 90);\n",
    "plt.title(\"Average Profit Per Ride By City\");"
   ]
  },
  {
   "cell_type": "markdown",
   "id": "169015c6-5db6-4aab-aeab-b1505a4d256e",
   "metadata": {},
   "source": [
    "Hypothesis 3: Which company retains more users (defined as 3 or more rides)?"
   ]
  },
  {
   "cell_type": "code",
   "execution_count": 62,
   "id": "d2858568-dc20-4168-a525-4bd4c216e596",
   "metadata": {},
   "outputs": [],
   "source": [
    "grouped_user = final_data.groupby('Customer ID').count()\n",
    "grouped_user_final = grouped_user[grouped_user['profit'] >= 3]\n",
    "the_index = grouped_user_final.index"
   ]
  },
  {
   "cell_type": "code",
   "execution_count": 63,
   "id": "ba74ffba-44d6-4955-9070-903521c566cb",
   "metadata": {},
   "outputs": [],
   "source": [
    "retained = final_data[final_data['Customer ID'].isin(the_index)]"
   ]
  },
  {
   "cell_type": "code",
   "execution_count": 64,
   "id": "68369361-1827-44f9-906d-278479bc64a7",
   "metadata": {},
   "outputs": [],
   "source": [
    "grouped_ret = retained.groupby(['City', 'Company']).count()"
   ]
  },
  {
   "cell_type": "code",
   "execution_count": 65,
   "id": "f6419bea-d6b5-4a10-a5c6-aa98d2f2f1ef",
   "metadata": {},
   "outputs": [],
   "source": [
    "hyp3_table = grouped_ret[['profit']].rename({'profit':'retained users'})\n"
   ]
  },
  {
   "cell_type": "code",
   "execution_count": 69,
   "id": "ae1205e7-4d42-484b-b4cd-14f84dfd50d0",
   "metadata": {},
   "outputs": [
    {
     "data": {
      "text/plain": [
       "(0.0, 55000.0)"
      ]
     },
     "execution_count": 69,
     "metadata": {},
     "output_type": "execute_result"
    },
    {
     "data": {
      "image/png": "[encoded data removed]",
      "text/plain": [
       "<Figure size 432x288 with 1 Axes>"
      ]
     },
     "metadata": {
      "needs_background": "light"
     },
     "output_type": "display_data"
    }
   ],
   "source": [
    "sns.barplot(data = hyp3_table.reset_index(), x = 'City', y = 'profit', hue = 'Company');\n",
    "\n",
    "plt.xticks(rotation = 90);\n",
    "plt.title(\"Retained Customers by City\");\n",
    "plt.xlabel(\"City\");\n",
    "plt.ylabel(\"Retained Customers\");\n",
    "plt.ylim(0, 55000);"
   ]
  },
  {
   "cell_type": "markdown",
   "id": "ae2430ce-b25e-4a78-a503-6e6911b397f6",
   "metadata": {},
   "source": [
    "But what if we define \"retained\" as 15 or more rides?"
   ]
  },
  {
   "cell_type": "code",
   "execution_count": 75,
   "id": "4e2c78bb-f5f4-49d4-9cf8-fcada7f26637",
   "metadata": {},
   "outputs": [
    {
     "data": {
      "image/png": "[encoded data removed]",
      "text/plain": [
       "<Figure size 432x288 with 1 Axes>"
      ]
     },
     "metadata": {
      "needs_background": "light"
     },
     "output_type": "display_data"
    }
   ],
   "source": [
    "grouped_use1r = final_data.groupby('Customer ID').count()\n",
    "grouped_user_final1 = grouped_user[grouped_user['profit'] >= 12]\n",
    "the_index1 = grouped_user_final1.index\n",
    "retained1 = final_data[final_data['Customer ID'].isin(the_index1)]\n",
    "grouped_ret1 = retained1.groupby(['City', 'Company']).count()\n",
    "hyp3_table1 = grouped_ret1[['profit']].rename({'profit':'retained users'})\n",
    "sns.barplot(data = hyp3_table1.reset_index(), x = 'City', y = 'profit', hue = 'Company');\n",
    "\n",
    "plt.xticks(rotation = 90);\n",
    "plt.title(\"Retained Customers by City\");\n",
    "plt.xlabel(\"City\");\n",
    "plt.ylabel(\"Retained Customers\");\n",
    "plt.ylim(0, 55000);"
   ]
  },
  {
   "cell_type": "markdown",
   "id": "7b0f0d2c-4a35-4037-8128-aa9490b73af7",
   "metadata": {},
   "source": [
    "Hypothesis 4: Does user income have an impact?"
   ]
  },
  {
   "cell_type": "code",
   "execution_count": 15,
   "id": "06e311ee-ed92-4bc3-ae0f-a996d5474440",
   "metadata": {},
   "outputs": [],
   "source": [
    "pink = final_data[final_data['Company'] == 'Pink Cab']\n",
    "yellow = final_data[final_data['Company'] == 'Yellow Cab']"
   ]
  },
  {
   "cell_type": "code",
   "execution_count": 16,
   "id": "9103bda1-f912-4c0d-8962-9bfd6ab62e2d",
   "metadata": {},
   "outputs": [],
   "source": [
    "poor = 32048 /12\n",
    "lower_middle = 53413 / 12\n",
    "middle = 106827 / 12\n",
    "upper_middle = 373894 / 12"
   ]
  },
  {
   "cell_type": "code",
   "execution_count": 17,
   "id": "c46ba07c-0d2f-48b6-a292-97ea988608d2",
   "metadata": {},
   "outputs": [],
   "source": [
    "def classifier(df):\n",
    "    to_return = []\n",
    "    for x in df['Income (USD/Month)']:\n",
    "        if x <= poor:\n",
    "            to_return.append(\"Lower\")\n",
    "        elif x >= poor and x <= lower_middle:\n",
    "            to_return.append(\"Lower-Middle\")\n",
    "        elif x >= lower_middle and x <= middle:\n",
    "            to_return.append(\"Middle\")\n",
    "        elif x >= middle and x <= upper_middle:\n",
    "            to_return.append(\"Middle-Upper\")\n",
    "        else:\n",
    "            to_return.append(\"Upper\")\n",
    "    return to_return\n",
    "\n",
    "final_data['Class'] = classifier(final_data)"
   ]
  },
  {
   "cell_type": "code",
   "execution_count": 18,
   "id": "16333f84-acf4-4d78-8bc4-0956a764511f",
   "metadata": {},
   "outputs": [
    {
     "data": {
      "text/html": [
       "<div>\n",
       "<style scoped>\n",
       "    .dataframe tbody tr th:only-of-type {\n",
       "        vertical-align: middle;\n",
       "    }\n",
       "\n",
       "    .dataframe tbody tr th {\n",
       "        vertical-align: top;\n",
       "    }\n",
       "\n",
       "    .dataframe thead th {\n",
       "        text-align: right;\n",
       "    }\n",
       "</style>\n",
       "<table border=\"1\" class=\"dataframe\">\n",
       "  <thead>\n",
       "    <tr style=\"text-align: right;\">\n",
       "      <th></th>\n",
       "      <th></th>\n",
       "      <th>Transaction ID</th>\n",
       "      <th>Customer ID</th>\n",
       "      <th>Payment_Mode</th>\n",
       "      <th>Gender</th>\n",
       "      <th>Age</th>\n",
       "      <th>Income (USD/Month)</th>\n",
       "      <th>Date of Travel</th>\n",
       "      <th>City</th>\n",
       "      <th>KM Travelled</th>\n",
       "      <th>Price Charged</th>\n",
       "      <th>Cost of Trip</th>\n",
       "      <th>Population</th>\n",
       "      <th>Users</th>\n",
       "      <th>profit</th>\n",
       "    </tr>\n",
       "    <tr>\n",
       "      <th>Class</th>\n",
       "      <th>Company</th>\n",
       "      <th></th>\n",
       "      <th></th>\n",
       "      <th></th>\n",
       "      <th></th>\n",
       "      <th></th>\n",
       "      <th></th>\n",
       "      <th></th>\n",
       "      <th></th>\n",
       "      <th></th>\n",
       "      <th></th>\n",
       "      <th></th>\n",
       "      <th></th>\n",
       "      <th></th>\n",
       "      <th></th>\n",
       "    </tr>\n",
       "  </thead>\n",
       "  <tbody>\n",
       "    <tr>\n",
       "      <th rowspan=\"2\" valign=\"top\">Lower</th>\n",
       "      <th>Pink Cab</th>\n",
       "      <td>2309</td>\n",
       "      <td>2309</td>\n",
       "      <td>2309</td>\n",
       "      <td>2309</td>\n",
       "      <td>2309</td>\n",
       "      <td>2309</td>\n",
       "      <td>2309</td>\n",
       "      <td>2309</td>\n",
       "      <td>2309</td>\n",
       "      <td>2309</td>\n",
       "      <td>2309</td>\n",
       "      <td>2309</td>\n",
       "      <td>2309</td>\n",
       "      <td>2309</td>\n",
       "    </tr>\n",
       "    <tr>\n",
       "      <th>Yellow Cab</th>\n",
       "      <td>7258</td>\n",
       "      <td>7258</td>\n",
       "      <td>7258</td>\n",
       "      <td>7258</td>\n",
       "      <td>7258</td>\n",
       "      <td>7258</td>\n",
       "      <td>7258</td>\n",
       "      <td>7258</td>\n",
       "      <td>7258</td>\n",
       "      <td>7258</td>\n",
       "      <td>7258</td>\n",
       "      <td>7258</td>\n",
       "      <td>7258</td>\n",
       "      <td>7258</td>\n",
       "    </tr>\n",
       "    <tr>\n",
       "      <th rowspan=\"2\" valign=\"top\">Lower-Middle</th>\n",
       "      <th>Pink Cab</th>\n",
       "      <td>5971</td>\n",
       "      <td>5971</td>\n",
       "      <td>5971</td>\n",
       "      <td>5971</td>\n",
       "      <td>5971</td>\n",
       "      <td>5971</td>\n",
       "      <td>5971</td>\n",
       "      <td>5971</td>\n",
       "      <td>5971</td>\n",
       "      <td>5971</td>\n",
       "      <td>5971</td>\n",
       "      <td>5971</td>\n",
       "      <td>5971</td>\n",
       "      <td>5971</td>\n",
       "    </tr>\n",
       "    <tr>\n",
       "      <th>Yellow Cab</th>\n",
       "      <td>19545</td>\n",
       "      <td>19545</td>\n",
       "      <td>19545</td>\n",
       "      <td>19545</td>\n",
       "      <td>19545</td>\n",
       "      <td>19545</td>\n",
       "      <td>19545</td>\n",
       "      <td>19545</td>\n",
       "      <td>19545</td>\n",
       "      <td>19545</td>\n",
       "      <td>19545</td>\n",
       "      <td>19545</td>\n",
       "      <td>19545</td>\n",
       "      <td>19545</td>\n",
       "    </tr>\n",
       "    <tr>\n",
       "      <th rowspan=\"2\" valign=\"top\">Middle</th>\n",
       "      <th>Pink Cab</th>\n",
       "      <td>14743</td>\n",
       "      <td>14743</td>\n",
       "      <td>14743</td>\n",
       "      <td>14743</td>\n",
       "      <td>14743</td>\n",
       "      <td>14743</td>\n",
       "      <td>14743</td>\n",
       "      <td>14743</td>\n",
       "      <td>14743</td>\n",
       "      <td>14743</td>\n",
       "      <td>14743</td>\n",
       "      <td>14743</td>\n",
       "      <td>14743</td>\n",
       "      <td>14743</td>\n",
       "    </tr>\n",
       "    <tr>\n",
       "      <th>Yellow Cab</th>\n",
       "      <td>47278</td>\n",
       "      <td>47278</td>\n",
       "      <td>47278</td>\n",
       "      <td>47278</td>\n",
       "      <td>47278</td>\n",
       "      <td>47278</td>\n",
       "      <td>47278</td>\n",
       "      <td>47278</td>\n",
       "      <td>47278</td>\n",
       "      <td>47278</td>\n",
       "      <td>47278</td>\n",
       "      <td>47278</td>\n",
       "      <td>47278</td>\n",
       "      <td>47278</td>\n",
       "    </tr>\n",
       "    <tr>\n",
       "      <th rowspan=\"2\" valign=\"top\">Middle-Upper</th>\n",
       "      <th>Pink Cab</th>\n",
       "      <td>58670</td>\n",
       "      <td>58670</td>\n",
       "      <td>58670</td>\n",
       "      <td>58670</td>\n",
       "      <td>58670</td>\n",
       "      <td>58670</td>\n",
       "      <td>58670</td>\n",
       "      <td>58670</td>\n",
       "      <td>58670</td>\n",
       "      <td>58670</td>\n",
       "      <td>58670</td>\n",
       "      <td>58670</td>\n",
       "      <td>58670</td>\n",
       "      <td>58670</td>\n",
       "    </tr>\n",
       "    <tr>\n",
       "      <th>Yellow Cab</th>\n",
       "      <td>190898</td>\n",
       "      <td>190898</td>\n",
       "      <td>190898</td>\n",
       "      <td>190898</td>\n",
       "      <td>190898</td>\n",
       "      <td>190898</td>\n",
       "      <td>190898</td>\n",
       "      <td>190898</td>\n",
       "      <td>190898</td>\n",
       "      <td>190898</td>\n",
       "      <td>190898</td>\n",
       "      <td>190898</td>\n",
       "      <td>190898</td>\n",
       "      <td>190898</td>\n",
       "    </tr>\n",
       "    <tr>\n",
       "      <th rowspan=\"2\" valign=\"top\">Upper</th>\n",
       "      <th>Pink Cab</th>\n",
       "      <td>3018</td>\n",
       "      <td>3018</td>\n",
       "      <td>3018</td>\n",
       "      <td>3018</td>\n",
       "      <td>3018</td>\n",
       "      <td>3018</td>\n",
       "      <td>3018</td>\n",
       "      <td>3018</td>\n",
       "      <td>3018</td>\n",
       "      <td>3018</td>\n",
       "      <td>3018</td>\n",
       "      <td>3018</td>\n",
       "      <td>3018</td>\n",
       "      <td>3018</td>\n",
       "    </tr>\n",
       "    <tr>\n",
       "      <th>Yellow Cab</th>\n",
       "      <td>9702</td>\n",
       "      <td>9702</td>\n",
       "      <td>9702</td>\n",
       "      <td>9702</td>\n",
       "      <td>9702</td>\n",
       "      <td>9702</td>\n",
       "      <td>9702</td>\n",
       "      <td>9702</td>\n",
       "      <td>9702</td>\n",
       "      <td>9702</td>\n",
       "      <td>9702</td>\n",
       "      <td>9702</td>\n",
       "      <td>9702</td>\n",
       "      <td>9702</td>\n",
       "    </tr>\n",
       "  </tbody>\n",
       "</table>\n",
       "</div>"
      ],
      "text/plain": [
       "                         Transaction ID  Customer ID  Payment_Mode  Gender  \\\n",
       "Class        Company                                                         \n",
       "Lower        Pink Cab              2309         2309          2309    2309   \n",
       "             Yellow Cab            7258         7258          7258    7258   \n",
       "Lower-Middle Pink Cab              5971         5971          5971    5971   \n",
       "             Yellow Cab           19545        19545         19545   19545   \n",
       "Middle       Pink Cab             14743        14743         14743   14743   \n",
       "             Yellow Cab           47278        47278         47278   47278   \n",
       "Middle-Upper Pink Cab             58670        58670         58670   58670   \n",
       "             Yellow Cab          190898       190898        190898  190898   \n",
       "Upper        Pink Cab              3018         3018          3018    3018   \n",
       "             Yellow Cab            9702         9702          9702    9702   \n",
       "\n",
       "                            Age  Income (USD/Month)  Date of Travel    City  \\\n",
       "Class        Company                                                          \n",
       "Lower        Pink Cab      2309                2309            2309    2309   \n",
       "             Yellow Cab    7258                7258            7258    7258   \n",
       "Lower-Middle Pink Cab      5971                5971            5971    5971   \n",
       "             Yellow Cab   19545               19545           19545   19545   \n",
       "Middle       Pink Cab     14743               14743           14743   14743   \n",
       "             Yellow Cab   47278               47278           47278   47278   \n",
       "Middle-Upper Pink Cab     58670               58670           58670   58670   \n",
       "             Yellow Cab  190898              190898          190898  190898   \n",
       "Upper        Pink Cab      3018                3018            3018    3018   \n",
       "             Yellow Cab    9702                9702            9702    9702   \n",
       "\n",
       "                         KM Travelled  Price Charged  Cost of Trip  \\\n",
       "Class        Company                                                 \n",
       "Lower        Pink Cab            2309           2309          2309   \n",
       "             Yellow Cab          7258           7258          7258   \n",
       "Lower-Middle Pink Cab            5971           5971          5971   \n",
       "             Yellow Cab         19545          19545         19545   \n",
       "Middle       Pink Cab           14743          14743         14743   \n",
       "             Yellow Cab         47278          47278         47278   \n",
       "Middle-Upper Pink Cab           58670          58670         58670   \n",
       "             Yellow Cab        190898         190898        190898   \n",
       "Upper        Pink Cab            3018           3018          3018   \n",
       "             Yellow Cab          9702           9702          9702   \n",
       "\n",
       "                         Population   Users  profit  \n",
       "Class        Company                                 \n",
       "Lower        Pink Cab          2309    2309    2309  \n",
       "             Yellow Cab        7258    7258    7258  \n",
       "Lower-Middle Pink Cab          5971    5971    5971  \n",
       "             Yellow Cab       19545   19545   19545  \n",
       "Middle       Pink Cab         14743   14743   14743  \n",
       "             Yellow Cab       47278   47278   47278  \n",
       "Middle-Upper Pink Cab         58670   58670   58670  \n",
       "             Yellow Cab      190898  190898  190898  \n",
       "Upper        Pink Cab          3018    3018    3018  \n",
       "             Yellow Cab        9702    9702    9702  "
      ]
     },
     "execution_count": 18,
     "metadata": {},
     "output_type": "execute_result"
    }
   ],
   "source": [
    "grouped_class = final_data.groupby(['Class', 'Company']).count()\n",
    "grouped_class"
   ]
  },
  {
   "cell_type": "code",
   "execution_count": 19,
   "id": "1cb93271-10f5-4041-bfd2-2349ae8269ff",
   "metadata": {},
   "outputs": [],
   "source": [
    "hyp4_table = grouped_class[['profit']]\n"
   ]
  },
  {
   "cell_type": "code",
   "execution_count": 20,
   "id": "75ebe76f-f4bb-4eb5-bc26-2804db822510",
   "metadata": {},
   "outputs": [],
   "source": [
    "def percentager(df):\n",
    "    to_return = []\n",
    "    x = 0\n",
    "    y = 1\n",
    "    counter = 0\n",
    "    yellow_p = len(yellow['City'])\n",
    "    pink_p = len(pink['City'])\n",
    "    while counter < len(df) / 2:\n",
    "        pinker = df['profit'][x] / pink_p\n",
    "        yellower = df['profit'][y] / yellow_p\n",
    "        to_return.append(pinker)\n",
    "        to_return.append(yellower)\n",
    "        x += 2\n",
    "        y += 2\n",
    "        counter += 1\n",
    "    return to_return"
   ]
  },
  {
   "cell_type": "code",
   "execution_count": 21,
   "id": "20d565d3-00ba-4cfe-80d5-80fcd82eb973",
   "metadata": {},
   "outputs": [
    {
     "name": "stderr",
     "output_type": "stream",
     "text": [
      "/tmp/ipykernel_44/1965032456.py:1: SettingWithCopyWarning: \n",
      "A value is trying to be set on a copy of a slice from a DataFrame.\n",
      "Try using .loc[row_indexer,col_indexer] = value instead\n",
      "\n",
      "See the caveats in the documentation: https://pandas.pydata.org/pandas-docs/stable/user_guide/indexing.html#returning-a-view-versus-a-copy\n",
      "  hyp4_table['percentage'] = percentager(hyp4_table)\n"
     ]
    }
   ],
   "source": [
    "hyp4_table['percentage'] = percentager(hyp4_table)"
   ]
  },
  {
   "cell_type": "code",
   "execution_count": 22,
   "id": "a0ce0b09-f9f4-45d6-b7a4-aac2a9bb3924",
   "metadata": {},
   "outputs": [
    {
     "data": {
      "text/html": [
       "<div>\n",
       "<style scoped>\n",
       "    .dataframe tbody tr th:only-of-type {\n",
       "        vertical-align: middle;\n",
       "    }\n",
       "\n",
       "    .dataframe tbody tr th {\n",
       "        vertical-align: top;\n",
       "    }\n",
       "\n",
       "    .dataframe thead th {\n",
       "        text-align: right;\n",
       "    }\n",
       "</style>\n",
       "<table border=\"1\" class=\"dataframe\">\n",
       "  <thead>\n",
       "    <tr style=\"text-align: right;\">\n",
       "      <th></th>\n",
       "      <th></th>\n",
       "      <th>profit</th>\n",
       "      <th>percentage</th>\n",
       "    </tr>\n",
       "    <tr>\n",
       "      <th>Class</th>\n",
       "      <th>Company</th>\n",
       "      <th></th>\n",
       "      <th></th>\n",
       "    </tr>\n",
       "  </thead>\n",
       "  <tbody>\n",
       "    <tr>\n",
       "      <th rowspan=\"2\" valign=\"top\">Lower</th>\n",
       "      <th>Pink Cab</th>\n",
       "      <td>2309</td>\n",
       "      <td>0.027257</td>\n",
       "    </tr>\n",
       "    <tr>\n",
       "      <th>Yellow Cab</th>\n",
       "      <td>7258</td>\n",
       "      <td>0.026423</td>\n",
       "    </tr>\n",
       "    <tr>\n",
       "      <th rowspan=\"2\" valign=\"top\">Lower-Middle</th>\n",
       "      <th>Pink Cab</th>\n",
       "      <td>5971</td>\n",
       "      <td>0.070487</td>\n",
       "    </tr>\n",
       "    <tr>\n",
       "      <th>Yellow Cab</th>\n",
       "      <td>19545</td>\n",
       "      <td>0.071155</td>\n",
       "    </tr>\n",
       "    <tr>\n",
       "      <th rowspan=\"2\" valign=\"top\">Middle</th>\n",
       "      <th>Pink Cab</th>\n",
       "      <td>14743</td>\n",
       "      <td>0.174039</td>\n",
       "    </tr>\n",
       "    <tr>\n",
       "      <th>Yellow Cab</th>\n",
       "      <td>47278</td>\n",
       "      <td>0.172120</td>\n",
       "    </tr>\n",
       "    <tr>\n",
       "      <th rowspan=\"2\" valign=\"top\">Middle-Upper</th>\n",
       "      <th>Pink Cab</th>\n",
       "      <td>58670</td>\n",
       "      <td>0.692590</td>\n",
       "    </tr>\n",
       "    <tr>\n",
       "      <th>Yellow Cab</th>\n",
       "      <td>190898</td>\n",
       "      <td>0.694981</td>\n",
       "    </tr>\n",
       "    <tr>\n",
       "      <th rowspan=\"2\" valign=\"top\">Upper</th>\n",
       "      <th>Pink Cab</th>\n",
       "      <td>3018</td>\n",
       "      <td>0.035627</td>\n",
       "    </tr>\n",
       "    <tr>\n",
       "      <th>Yellow Cab</th>\n",
       "      <td>9702</td>\n",
       "      <td>0.035321</td>\n",
       "    </tr>\n",
       "  </tbody>\n",
       "</table>\n",
       "</div>"
      ],
      "text/plain": [
       "                         profit  percentage\n",
       "Class        Company                       \n",
       "Lower        Pink Cab      2309    0.027257\n",
       "             Yellow Cab    7258    0.026423\n",
       "Lower-Middle Pink Cab      5971    0.070487\n",
       "             Yellow Cab   19545    0.071155\n",
       "Middle       Pink Cab     14743    0.174039\n",
       "             Yellow Cab   47278    0.172120\n",
       "Middle-Upper Pink Cab     58670    0.692590\n",
       "             Yellow Cab  190898    0.694981\n",
       "Upper        Pink Cab      3018    0.035627\n",
       "             Yellow Cab    9702    0.035321"
      ]
     },
     "execution_count": 22,
     "metadata": {},
     "output_type": "execute_result"
    }
   ],
   "source": [
    "hyp4_table"
   ]
  },
  {
   "cell_type": "code",
   "execution_count": 111,
   "id": "afd3f102-04e7-4021-9e12-054b8d1cae44",
   "metadata": {},
   "outputs": [
    {
     "data": {
      "text/html": [
       "<div>\n",
       "<style scoped>\n",
       "    .dataframe tbody tr th:only-of-type {\n",
       "        vertical-align: middle;\n",
       "    }\n",
       "\n",
       "    .dataframe tbody tr th {\n",
       "        vertical-align: top;\n",
       "    }\n",
       "\n",
       "    .dataframe thead th {\n",
       "        text-align: right;\n",
       "    }\n",
       "</style>\n",
       "<table border=\"1\" class=\"dataframe\">\n",
       "  <thead>\n",
       "    <tr style=\"text-align: right;\">\n",
       "      <th></th>\n",
       "      <th>Class</th>\n",
       "      <th>Company</th>\n",
       "      <th>profit</th>\n",
       "      <th>percentage</th>\n",
       "    </tr>\n",
       "  </thead>\n",
       "  <tbody>\n",
       "    <tr>\n",
       "      <th>1</th>\n",
       "      <td>Lower</td>\n",
       "      <td>Yellow Cab</td>\n",
       "      <td>7258</td>\n",
       "      <td>0.026423</td>\n",
       "    </tr>\n",
       "    <tr>\n",
       "      <th>3</th>\n",
       "      <td>Lower-Middle</td>\n",
       "      <td>Yellow Cab</td>\n",
       "      <td>19545</td>\n",
       "      <td>0.071155</td>\n",
       "    </tr>\n",
       "    <tr>\n",
       "      <th>5</th>\n",
       "      <td>Middle</td>\n",
       "      <td>Yellow Cab</td>\n",
       "      <td>47278</td>\n",
       "      <td>0.172120</td>\n",
       "    </tr>\n",
       "    <tr>\n",
       "      <th>7</th>\n",
       "      <td>Middle-Upper</td>\n",
       "      <td>Yellow Cab</td>\n",
       "      <td>190898</td>\n",
       "      <td>0.694981</td>\n",
       "    </tr>\n",
       "    <tr>\n",
       "      <th>9</th>\n",
       "      <td>Upper</td>\n",
       "      <td>Yellow Cab</td>\n",
       "      <td>9702</td>\n",
       "      <td>0.035321</td>\n",
       "    </tr>\n",
       "  </tbody>\n",
       "</table>\n",
       "</div>"
      ],
      "text/plain": [
       "          Class     Company  profit  percentage\n",
       "1         Lower  Yellow Cab    7258    0.026423\n",
       "3  Lower-Middle  Yellow Cab   19545    0.071155\n",
       "5        Middle  Yellow Cab   47278    0.172120\n",
       "7  Middle-Upper  Yellow Cab  190898    0.694981\n",
       "9         Upper  Yellow Cab    9702    0.035321"
      ]
     },
     "execution_count": 111,
     "metadata": {},
     "output_type": "execute_result"
    }
   ],
   "source": [
    "pink4 = hyp4_table.reset_index().loc[np.arange(0, 10, 2), :]\n",
    "yellow4 = hyp4_table.reset_index().loc[np.arange(1, 11, 2), :]\n",
    "\n",
    "pink4"
   ]
  },
  {
   "cell_type": "code",
   "execution_count": 151,
   "id": "7ed1abbe-df19-48f7-b97e-0ebc92cd4228",
   "metadata": {},
   "outputs": [
    {
     "data": {
      "image/png": "[encoded data removed]",
      "text/plain": [
       "<Figure size 432x288 with 1 Axes>"
      ]
     },
     "metadata": {
      "needs_background": "light"
     },
     "output_type": "display_data"
    }
   ],
   "source": [
    "labels = ['Pink Cab', 'Yellow Cab']\n",
    "colors = ['red', 'blue', 'green', 'yellow', 'gold']\n",
    "\n",
    "yo = colors.pop()\n",
    "x1 = hyp4_table.reset_index()['profit'][0:2].values\n",
    "plt.bar(labels, x1, width = .3, color = yo)\n",
    "\n",
    "for x in np.arange(2, 9, 2):\n",
    "    y1 = hyp4_table.reset_index()['profit'][x:x+2].values\n",
    "    string = colors.pop()\n",
    "    plt.bar(labels, y1, bottom = x1, width = .3, color = string)\n",
    "    x1 += y1\n",
    "    \n",
    "plt.legend(pink4['Class']);\n",
    "plt.title(\"Number of Users at Each Economic Class\");\n",
    "plt.ylabel(\"Number of Users\");\n",
    "plt.xlabel(\"Company\");"
   ]
  },
  {
   "cell_type": "code",
   "execution_count": 147,
   "id": "4599c719-e399-47ca-8062-8841ee6a9ec0",
   "metadata": {},
   "outputs": [
    {
     "data": {
      "image/png": "[encoded data removed]",
      "text/plain": [
       "<Figure size 432x288 with 1 Axes>"
      ]
     },
     "metadata": {},
     "output_type": "display_data"
    }
   ],
   "source": [
    "plt.pie(pink4['percentage'], labels = pink4['Class']);\n",
    "\n",
    "plt.title(\"Percentage of Each Class of Pink Cab\");"
   ]
  },
  {
   "cell_type": "code",
   "execution_count": 148,
   "id": "86522cfc-5f1d-4058-8386-7f3c67d57a46",
   "metadata": {},
   "outputs": [
    {
     "data": {
      "image/png": "[encoded data removed]",
      "text/plain": [
       "<Figure size 432x288 with 1 Axes>"
      ]
     },
     "metadata": {},
     "output_type": "display_data"
    }
   ],
   "source": [
    "pallette = sns.color_palette('dark');\n",
    "plt.pie(yellow4['percentage'], labels = yellow4['Class'], colors = pallette);\n",
    "\n",
    "plt.title(\"Percentage of Each Class of Yellow Cab\");"
   ]
  },
  {
   "cell_type": "markdown",
   "id": "dd535552-ce3f-4511-bc28-27ae696005af",
   "metadata": {},
   "source": [
    "Hypothesis 5: What about age? *pie chart*"
   ]
  },
  {
   "cell_type": "code",
   "execution_count": 23,
   "id": "3ccc461a-a6bd-40a9-94cd-5defc3c57df5",
   "metadata": {},
   "outputs": [],
   "source": [
    "unique_cust = final_data.groupby('Customer ID', as_index = False).first()"
   ]
  },
  {
   "cell_type": "code",
   "execution_count": 24,
   "id": "fb59e503-89c2-498e-941c-b9357249533b",
   "metadata": {},
   "outputs": [],
   "source": [
    "def age_classifier(df):\n",
    "    to_return = []\n",
    "    for x in df['Age']:\n",
    "        if x < 35:\n",
    "            to_return.append(\"Young\")\n",
    "        elif x >= 35 and x < 55:\n",
    "            to_return.append(\"Middle-Age\")\n",
    "        else:\n",
    "            to_return.append(\"Old\")\n",
    "    return to_return"
   ]
  },
  {
   "cell_type": "code",
   "execution_count": 25,
   "id": "e7c42221-d00d-4f1c-a4f3-0cac41a442cf",
   "metadata": {},
   "outputs": [],
   "source": [
    "unique_cust['Age Range'] = age_classifier(unique_cust)"
   ]
  },
  {
   "cell_type": "code",
   "execution_count": 26,
   "id": "660c2f52-438a-4ba5-901f-453f02877b6b",
   "metadata": {},
   "outputs": [],
   "source": [
    "grouped_age = unique_cust.groupby([\"Age Range\", \"Company\"]).count()"
   ]
  },
  {
   "cell_type": "code",
   "execution_count": 160,
   "id": "faba0e69-242f-49c5-bd78-2cef741b33e3",
   "metadata": {},
   "outputs": [
    {
     "data": {
      "text/html": [
       "<div>\n",
       "<style scoped>\n",
       "    .dataframe tbody tr th:only-of-type {\n",
       "        vertical-align: middle;\n",
       "    }\n",
       "\n",
       "    .dataframe tbody tr th {\n",
       "        vertical-align: top;\n",
       "    }\n",
       "\n",
       "    .dataframe thead th {\n",
       "        text-align: right;\n",
       "    }\n",
       "</style>\n",
       "<table border=\"1\" class=\"dataframe\">\n",
       "  <thead>\n",
       "    <tr style=\"text-align: right;\">\n",
       "      <th></th>\n",
       "      <th>Age Range</th>\n",
       "      <th>Company</th>\n",
       "      <th>Customer ID</th>\n",
       "      <th>Transaction ID</th>\n",
       "      <th>Payment_Mode</th>\n",
       "      <th>Gender</th>\n",
       "      <th>Age</th>\n",
       "      <th>Income (USD/Month)</th>\n",
       "      <th>Date of Travel</th>\n",
       "      <th>City</th>\n",
       "      <th>KM Travelled</th>\n",
       "      <th>Price Charged</th>\n",
       "      <th>Cost of Trip</th>\n",
       "      <th>Population</th>\n",
       "      <th>Users</th>\n",
       "      <th>profit</th>\n",
       "      <th>Class</th>\n",
       "    </tr>\n",
       "  </thead>\n",
       "  <tbody>\n",
       "    <tr>\n",
       "      <th>1</th>\n",
       "      <td>Middle-Age</td>\n",
       "      <td>Yellow Cab</td>\n",
       "      <td>10646</td>\n",
       "      <td>10646</td>\n",
       "      <td>10646</td>\n",
       "      <td>10646</td>\n",
       "      <td>10646</td>\n",
       "      <td>10646</td>\n",
       "      <td>10646</td>\n",
       "      <td>10646</td>\n",
       "      <td>10646</td>\n",
       "      <td>10646</td>\n",
       "      <td>10646</td>\n",
       "      <td>10646</td>\n",
       "      <td>10646</td>\n",
       "      <td>10646</td>\n",
       "      <td>10646</td>\n",
       "    </tr>\n",
       "    <tr>\n",
       "      <th>3</th>\n",
       "      <td>Old</td>\n",
       "      <td>Yellow Cab</td>\n",
       "      <td>3633</td>\n",
       "      <td>3633</td>\n",
       "      <td>3633</td>\n",
       "      <td>3633</td>\n",
       "      <td>3633</td>\n",
       "      <td>3633</td>\n",
       "      <td>3633</td>\n",
       "      <td>3633</td>\n",
       "      <td>3633</td>\n",
       "      <td>3633</td>\n",
       "      <td>3633</td>\n",
       "      <td>3633</td>\n",
       "      <td>3633</td>\n",
       "      <td>3633</td>\n",
       "      <td>3633</td>\n",
       "    </tr>\n",
       "    <tr>\n",
       "      <th>5</th>\n",
       "      <td>Young</td>\n",
       "      <td>Yellow Cab</td>\n",
       "      <td>17040</td>\n",
       "      <td>17040</td>\n",
       "      <td>17040</td>\n",
       "      <td>17040</td>\n",
       "      <td>17040</td>\n",
       "      <td>17040</td>\n",
       "      <td>17040</td>\n",
       "      <td>17040</td>\n",
       "      <td>17040</td>\n",
       "      <td>17040</td>\n",
       "      <td>17040</td>\n",
       "      <td>17040</td>\n",
       "      <td>17040</td>\n",
       "      <td>17040</td>\n",
       "      <td>17040</td>\n",
       "    </tr>\n",
       "  </tbody>\n",
       "</table>\n",
       "</div>"
      ],
      "text/plain": [
       "    Age Range     Company  Customer ID  Transaction ID  Payment_Mode  Gender  \\\n",
       "1  Middle-Age  Yellow Cab        10646           10646         10646   10646   \n",
       "3         Old  Yellow Cab         3633            3633          3633    3633   \n",
       "5       Young  Yellow Cab        17040           17040         17040   17040   \n",
       "\n",
       "     Age  Income (USD/Month)  Date of Travel   City  KM Travelled  \\\n",
       "1  10646               10646           10646  10646         10646   \n",
       "3   3633                3633            3633   3633          3633   \n",
       "5  17040               17040           17040  17040         17040   \n",
       "\n",
       "   Price Charged  Cost of Trip  Population  Users  profit  Class  \n",
       "1          10646         10646       10646  10646   10646  10646  \n",
       "3           3633          3633        3633   3633    3633   3633  \n",
       "5          17040         17040       17040  17040   17040  17040  "
      ]
     },
     "execution_count": 160,
     "metadata": {},
     "output_type": "execute_result"
    }
   ],
   "source": [
    "pink5 = grouped_age.reset_index().loc[np.arange(0, 6, 2), :]\n",
    "yellow5 = grouped_age.reset_index().loc[np.arange(1, 7, 2), :]\n",
    "yellow5"
   ]
  },
  {
   "cell_type": "code",
   "execution_count": 164,
   "id": "6d4ea8da-3620-4e94-8668-0bf85b061c37",
   "metadata": {},
   "outputs": [
    {
     "data": {
      "image/png": "[encoded data removed]",
      "text/plain": [
       "<Figure size 432x288 with 1 Axes>"
      ]
     },
     "metadata": {},
     "output_type": "display_data"
    }
   ],
   "source": [
    "plt.pie(pink5['Customer ID'], labels = pink5['Age Range'], autopct='%1.1f%%');\n",
    "\n",
    "plt.title(\"Percent of Pink Cab Users by Age Range\");"
   ]
  },
  {
   "cell_type": "code",
   "execution_count": 166,
   "id": "3bcba478-ebf9-4f76-91f0-b19afcb0858b",
   "metadata": {},
   "outputs": [
    {
     "data": {
      "image/png": "[encoded data removed]",
      "text/plain": [
       "<Figure size 432x288 with 1 Axes>"
      ]
     },
     "metadata": {},
     "output_type": "display_data"
    }
   ],
   "source": [
    "plt.pie(yellow5['Customer ID'], labels = yellow5['Age Range'], autopct='%1.1f%%');\n",
    "\n",
    "plt.title(\"Percent of Yellow Cab Users by Age Range\");"
   ]
  },
  {
   "cell_type": "code",
   "execution_count": null,
   "id": "ecac630b-7987-414f-aa68-ac010338823a",
   "metadata": {},
   "outputs": [],
   "source": []
  }
 ],
 "metadata": {
  "kernelspec": {
   "display_name": "Python 3 (ipykernel)",
   "language": "python",
   "name": "python3"
  },
  "language_info": {
   "codemirror_mode": {
    "name": "ipython",
    "version": 3
   },
   "file_extension": ".py",
   "mimetype": "text/x-python",
   "name": "python",
   "nbconvert_exporter": "python",
   "pygments_lexer": "ipython3",
   "version": "3.9.13"
  }
 },
 "nbformat": 4,
 "nbformat_minor": 5
}
